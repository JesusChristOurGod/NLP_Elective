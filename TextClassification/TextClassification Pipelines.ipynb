{
 "cells": [
  {
   "cell_type": "code",
   "execution_count": 309,
   "id": "6467f3a6",
   "metadata": {},
   "outputs": [],
   "source": [
    "import pandas as pd\n",
    "import numpy as np\n",
    "import matplotlib.pyplot as plt\n",
    "import seaborn as sns\n",
    "import warnings\n",
    "warnings.filterwarnings('ignore')"
   ]
  },
  {
   "cell_type": "code",
   "execution_count": 310,
   "id": "1cf8390b",
   "metadata": {},
   "outputs": [],
   "source": [
    "data = pd.read_csv('spam_or_not_spam.csv')"
   ]
  },
  {
   "cell_type": "code",
   "execution_count": 311,
   "id": "2d4ea5e9",
   "metadata": {},
   "outputs": [
    {
     "data": {
      "text/html": [
       "<div>\n",
       "<style scoped>\n",
       "    .dataframe tbody tr th:only-of-type {\n",
       "        vertical-align: middle;\n",
       "    }\n",
       "\n",
       "    .dataframe tbody tr th {\n",
       "        vertical-align: top;\n",
       "    }\n",
       "\n",
       "    .dataframe thead th {\n",
       "        text-align: right;\n",
       "    }\n",
       "</style>\n",
       "<table border=\"1\" class=\"dataframe\">\n",
       "  <thead>\n",
       "    <tr style=\"text-align: right;\">\n",
       "      <th></th>\n",
       "      <th>email</th>\n",
       "      <th>label</th>\n",
       "    </tr>\n",
       "  </thead>\n",
       "  <tbody>\n",
       "    <tr>\n",
       "      <th>0</th>\n",
       "      <td>date wed NUMBER aug NUMBER NUMBER NUMBER NUMB...</td>\n",
       "      <td>0</td>\n",
       "    </tr>\n",
       "    <tr>\n",
       "      <th>1</th>\n",
       "      <td>martin a posted tassos papadopoulos the greek ...</td>\n",
       "      <td>0</td>\n",
       "    </tr>\n",
       "    <tr>\n",
       "      <th>2</th>\n",
       "      <td>man threatens explosion in moscow thursday aug...</td>\n",
       "      <td>0</td>\n",
       "    </tr>\n",
       "    <tr>\n",
       "      <th>3</th>\n",
       "      <td>klez the virus that won t die already the most...</td>\n",
       "      <td>0</td>\n",
       "    </tr>\n",
       "    <tr>\n",
       "      <th>4</th>\n",
       "      <td>in adding cream to spaghetti carbonara which ...</td>\n",
       "      <td>0</td>\n",
       "    </tr>\n",
       "  </tbody>\n",
       "</table>\n",
       "</div>"
      ],
      "text/plain": [
       "                                               email  label\n",
       "0   date wed NUMBER aug NUMBER NUMBER NUMBER NUMB...      0\n",
       "1  martin a posted tassos papadopoulos the greek ...      0\n",
       "2  man threatens explosion in moscow thursday aug...      0\n",
       "3  klez the virus that won t die already the most...      0\n",
       "4   in adding cream to spaghetti carbonara which ...      0"
      ]
     },
     "execution_count": 311,
     "metadata": {},
     "output_type": "execute_result"
    }
   ],
   "source": [
    "data.head()"
   ]
  },
  {
   "cell_type": "code",
   "execution_count": 312,
   "id": "4d3b8a7a",
   "metadata": {},
   "outputs": [],
   "source": [
    "data=data.dropna()"
   ]
  },
  {
   "cell_type": "code",
   "execution_count": 313,
   "id": "7d96433c",
   "metadata": {},
   "outputs": [],
   "source": [
    "from sklearn.naive_bayes import MultinomialNB\n",
    "from sklearn.tree import DecisionTreeClassifier\n",
    "from sklearn.linear_model import LogisticRegression\n",
    "from sklearn.pipeline import Pipeline\n",
    "from sklearn.model_selection import GridSearchCV\n",
    "from sklearn.model_selection import train_test_split\n",
    "from sklearn.feature_extraction.text import CountVectorizer\n",
    "from sklearn.feature_extraction.text import TfidfVectorizer\n",
    "from sklearn.metrics import f1_score"
   ]
  },
  {
   "cell_type": "code",
   "execution_count": 325,
   "id": "3d540e42",
   "metadata": {},
   "outputs": [],
   "source": [
    "class Model:\n",
    "    def __init__(self, model, vectorizer, data, random_seed=42):\n",
    "        model_initializer ={\n",
    "            \"Tree\": DecisionTreeClassifier(),\n",
    "            'NB': MultinomialNB(),\n",
    "            'LogReg': LogisticRegression()\n",
    "        }\n",
    "        vec_initializer ={\n",
    "            \"CountVectorizer\": CountVectorizer(),\n",
    "            \"TF_IDF\": TfidfVectorizer()\n",
    "        }\n",
    "        self.model = model_initializer.get(model)\n",
    "        self.vectorizer = vec_initializer.get(vectorizer)\n",
    "        self.data = data\n",
    "        grid_tree = {'model__max_features': ['sqrt', 'log2'],\n",
    "              'model__ccp_alpha': [0.1, .01, .001],\n",
    "              'model__max_depth' : [100,300,500,None],\n",
    "              'model__criterion' :['gini', 'entropy']\n",
    "             }\n",
    "        grid_logistic = {\n",
    "            \"model__penalty\":['l1', 'l2'],\n",
    "            'model__C':[0.1, 0.5, 1],\n",
    "            'model__fit_intercept':[True, False]\n",
    "        }\n",
    "        grid_bayes = {\n",
    "            \"model__alpha\":[0.01, 0.1, 1, 10]\n",
    "        }\n",
    "        grid_initializer = {\n",
    "            \"Tree\": grid_tree,\n",
    "            \"NB\": grid_bayes,\n",
    "            \"LogReg\": grid_logistic\n",
    "        }\n",
    "        self.parameters = grid_initializer.get(model)\n",
    "        \n",
    "        self.pipe = Pipeline(\n",
    "            steps = [('vectorize', self.vectorizer),\n",
    "                     ('model', self.model)\n",
    "\n",
    "            ]\n",
    "        )\n",
    "\n",
    "    def vectorize(self):\n",
    "        X=self.data.email\n",
    "        y=self.data.label\n",
    "        self.X_train, self.X_test, self.y_train, self.y_test = train_test_split(X, y, test_size = 0.2, random_state=42)\n",
    "#         self.X_train = self.vectorizer.fit_transform(self.X_train)\n",
    "#         self.X_test = self.vectorizer.transform(self.X_test)\n",
    "        \n",
    "#     def find_best_model(self):\n",
    "#         gs = GridSearchCV(estimator=self.model, param_grid=self.parameters, cv=5, verbose=3)\n",
    "#         gs.fit(self.X_train, self.y_train)\n",
    "#         self.best_params=gs.best_params_\n",
    "#         self.best_model = gs.best_estimator_\n",
    "#         print(gs.best_score_)\n",
    "#         print(self.best_params)\n",
    "#         print(gs.best_estimator_)\n",
    "    \n",
    "    def pipeline(self):\n",
    "        self.grid_pipeline = GridSearchCV(self.pipe, self.parameters,cv=5, verbose = 0)\n",
    "        self.grid_pipeline.fit(self.X_train, self.y_train)\n",
    "        \n",
    "    def predict(self):\n",
    "        \n",
    "        self.y_pred = self.grid_pipeline.best_estimator_.predict(self.X_test)\n",
    "        \n",
    "    def evaluate(self):\n",
    "#         print(\"F1-score: \", f1_score(self.y_test, self.y_pred))\n",
    "#         cf_matrix = confusion_matrix(y_test,y_pred)\n",
    "#         plt.figure(figsize=(4,3))\n",
    "#         plt.title('Confusion Matrix Visualization')\n",
    "#         sns.heatmap(cf_matrix, annot=True, fmt='', cmap='Blues')\n",
    "        return f1_score(self.y_test, self.y_pred)"
   ]
  },
  {
   "cell_type": "code",
   "execution_count": 326,
   "id": "69ecfb84",
   "metadata": {},
   "outputs": [],
   "source": [
    "def run_all_models():\n",
    "    models = [\"NB\", \"LogReg\", \"Tree\"]\n",
    "    vectorizers = [\"CountVectorizer\", \"TF_IDF\"]\n",
    "    results=[]\n",
    "    for m in models:\n",
    "        for v in vectorizers:\n",
    "            model = Model(m,v,data)\n",
    "            model.vectorize()\n",
    "            model.pipeline()\n",
    "            model.predict()\n",
    "            f_score = model.evaluate()\n",
    "            results.append((model.grid_pipeline.best_estimator_[1], model.vectorizer, f_score))\n",
    "            \n",
    "    return results"
   ]
  },
  {
   "cell_type": "code",
   "execution_count": 327,
   "id": "d75a2e83",
   "metadata": {},
   "outputs": [],
   "source": [
    "results = run_all_models()"
   ]
  },
  {
   "cell_type": "code",
   "execution_count": 328,
   "id": "c7d28b47",
   "metadata": {},
   "outputs": [
    {
     "data": {
      "text/plain": [
       "[(MultinomialNB(alpha=0.1), CountVectorizer(), 0.9847715736040609),\n",
       " (MultinomialNB(alpha=0.01), TfidfVectorizer(), 0.9743589743589743),\n",
       " (LogisticRegression(C=0.5), CountVectorizer(), 0.9847715736040609),\n",
       " (LogisticRegression(C=1, fit_intercept=False),\n",
       "  TfidfVectorizer(),\n",
       "  0.9071038251366119),\n",
       " (DecisionTreeClassifier(ccp_alpha=0.001, criterion='entropy',\n",
       "                         max_features='sqrt'),\n",
       "  CountVectorizer(),\n",
       "  0.7916666666666667),\n",
       " (DecisionTreeClassifier(ccp_alpha=0.001, criterion='entropy', max_depth=100,\n",
       "                         max_features='sqrt'),\n",
       "  TfidfVectorizer(),\n",
       "  0.7643979057591622)]"
      ]
     },
     "execution_count": 328,
     "metadata": {},
     "output_type": "execute_result"
    }
   ],
   "source": [
    "results"
   ]
  },
  {
   "cell_type": "code",
   "execution_count": null,
   "id": "b6721e79",
   "metadata": {},
   "outputs": [],
   "source": []
  }
 ],
 "metadata": {
  "kernelspec": {
   "display_name": "Python 3 (ipykernel)",
   "language": "python",
   "name": "python3"
  },
  "language_info": {
   "codemirror_mode": {
    "name": "ipython",
    "version": 3
   },
   "file_extension": ".py",
   "mimetype": "text/x-python",
   "name": "python",
   "nbconvert_exporter": "python",
   "pygments_lexer": "ipython3",
   "version": "3.10.13"
  }
 },
 "nbformat": 4,
 "nbformat_minor": 5
}
